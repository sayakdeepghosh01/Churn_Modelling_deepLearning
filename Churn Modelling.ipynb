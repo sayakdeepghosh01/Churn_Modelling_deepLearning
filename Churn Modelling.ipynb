{
  "nbformat": 4,
  "nbformat_minor": 0,
  "metadata": {
    "colab": {
      "name": "NeuralNetwork1.ipynb",
      "provenance": [],
      "collapsed_sections": []
    },
    "kernelspec": {
      "name": "python3",
      "display_name": "Python 3"
    }
  },
  "cells": [
    {
      "cell_type": "code",
      "metadata": {
        "id": "qpcWiYbVG4o7"
      },
      "source": [
        "import pandas as pd \n",
        "import numpy as np\n",
        "import matplotlib.pyplot as plt\n",
        "import tensorflow as tf\n",
        "from sklearn.preprocessing import LabelEncoder \n",
        "from sklearn.model_selection import train_test_split"
      ],
      "execution_count": 1,
      "outputs": []
    },
    {
      "cell_type": "code",
      "metadata": {
        "id": "7IMS80ybHOCa",
        "colab": {
          "base_uri": "https://localhost:8080/",
          "height": 207
        },
        "outputId": "b0752a47-a70f-4251-ae9e-c8515ff7faae"
      },
      "source": [
        "data = pd.read_csv(\"/content/Churn_Modelling.csv\")\n",
        "data.head(3)"
      ],
      "execution_count": 2,
      "outputs": [
        {
          "output_type": "execute_result",
          "data": {
            "text/plain": [
              "   RowNumber  CustomerId   Surname  CreditScore Geography  Gender  Age  \\\n",
              "0          1    15634602  Hargrave          619    France  Female   42   \n",
              "1          2    15647311      Hill          608     Spain  Female   41   \n",
              "2          3    15619304      Onio          502    France  Female   42   \n",
              "\n",
              "   Tenure    Balance  NumOfProducts  HasCrCard  IsActiveMember  \\\n",
              "0       2       0.00              1          1               1   \n",
              "1       1   83807.86              1          0               1   \n",
              "2       8  159660.80              3          1               0   \n",
              "\n",
              "   EstimatedSalary  Exited  \n",
              "0        101348.88       1  \n",
              "1        112542.58       0  \n",
              "2        113931.57       1  "
            ],
            "text/html": [
              "\n",
              "  <div id=\"df-0a12b491-3cec-40b9-82cf-06ea23ca653a\">\n",
              "    <div class=\"colab-df-container\">\n",
              "      <div>\n",
              "<style scoped>\n",
              "    .dataframe tbody tr th:only-of-type {\n",
              "        vertical-align: middle;\n",
              "    }\n",
              "\n",
              "    .dataframe tbody tr th {\n",
              "        vertical-align: top;\n",
              "    }\n",
              "\n",
              "    .dataframe thead th {\n",
              "        text-align: right;\n",
              "    }\n",
              "</style>\n",
              "<table border=\"1\" class=\"dataframe\">\n",
              "  <thead>\n",
              "    <tr style=\"text-align: right;\">\n",
              "      <th></th>\n",
              "      <th>RowNumber</th>\n",
              "      <th>CustomerId</th>\n",
              "      <th>Surname</th>\n",
              "      <th>CreditScore</th>\n",
              "      <th>Geography</th>\n",
              "      <th>Gender</th>\n",
              "      <th>Age</th>\n",
              "      <th>Tenure</th>\n",
              "      <th>Balance</th>\n",
              "      <th>NumOfProducts</th>\n",
              "      <th>HasCrCard</th>\n",
              "      <th>IsActiveMember</th>\n",
              "      <th>EstimatedSalary</th>\n",
              "      <th>Exited</th>\n",
              "    </tr>\n",
              "  </thead>\n",
              "  <tbody>\n",
              "    <tr>\n",
              "      <th>0</th>\n",
              "      <td>1</td>\n",
              "      <td>15634602</td>\n",
              "      <td>Hargrave</td>\n",
              "      <td>619</td>\n",
              "      <td>France</td>\n",
              "      <td>Female</td>\n",
              "      <td>42</td>\n",
              "      <td>2</td>\n",
              "      <td>0.00</td>\n",
              "      <td>1</td>\n",
              "      <td>1</td>\n",
              "      <td>1</td>\n",
              "      <td>101348.88</td>\n",
              "      <td>1</td>\n",
              "    </tr>\n",
              "    <tr>\n",
              "      <th>1</th>\n",
              "      <td>2</td>\n",
              "      <td>15647311</td>\n",
              "      <td>Hill</td>\n",
              "      <td>608</td>\n",
              "      <td>Spain</td>\n",
              "      <td>Female</td>\n",
              "      <td>41</td>\n",
              "      <td>1</td>\n",
              "      <td>83807.86</td>\n",
              "      <td>1</td>\n",
              "      <td>0</td>\n",
              "      <td>1</td>\n",
              "      <td>112542.58</td>\n",
              "      <td>0</td>\n",
              "    </tr>\n",
              "    <tr>\n",
              "      <th>2</th>\n",
              "      <td>3</td>\n",
              "      <td>15619304</td>\n",
              "      <td>Onio</td>\n",
              "      <td>502</td>\n",
              "      <td>France</td>\n",
              "      <td>Female</td>\n",
              "      <td>42</td>\n",
              "      <td>8</td>\n",
              "      <td>159660.80</td>\n",
              "      <td>3</td>\n",
              "      <td>1</td>\n",
              "      <td>0</td>\n",
              "      <td>113931.57</td>\n",
              "      <td>1</td>\n",
              "    </tr>\n",
              "  </tbody>\n",
              "</table>\n",
              "</div>\n",
              "      <button class=\"colab-df-convert\" onclick=\"convertToInteractive('df-0a12b491-3cec-40b9-82cf-06ea23ca653a')\"\n",
              "              title=\"Convert this dataframe to an interactive table.\"\n",
              "              style=\"display:none;\">\n",
              "        \n",
              "  <svg xmlns=\"http://www.w3.org/2000/svg\" height=\"24px\"viewBox=\"0 0 24 24\"\n",
              "       width=\"24px\">\n",
              "    <path d=\"M0 0h24v24H0V0z\" fill=\"none\"/>\n",
              "    <path d=\"M18.56 5.44l.94 2.06.94-2.06 2.06-.94-2.06-.94-.94-2.06-.94 2.06-2.06.94zm-11 1L8.5 8.5l.94-2.06 2.06-.94-2.06-.94L8.5 2.5l-.94 2.06-2.06.94zm10 10l.94 2.06.94-2.06 2.06-.94-2.06-.94-.94-2.06-.94 2.06-2.06.94z\"/><path d=\"M17.41 7.96l-1.37-1.37c-.4-.4-.92-.59-1.43-.59-.52 0-1.04.2-1.43.59L10.3 9.45l-7.72 7.72c-.78.78-.78 2.05 0 2.83L4 21.41c.39.39.9.59 1.41.59.51 0 1.02-.2 1.41-.59l7.78-7.78 2.81-2.81c.8-.78.8-2.07 0-2.86zM5.41 20L4 18.59l7.72-7.72 1.47 1.35L5.41 20z\"/>\n",
              "  </svg>\n",
              "      </button>\n",
              "      \n",
              "  <style>\n",
              "    .colab-df-container {\n",
              "      display:flex;\n",
              "      flex-wrap:wrap;\n",
              "      gap: 12px;\n",
              "    }\n",
              "\n",
              "    .colab-df-convert {\n",
              "      background-color: #E8F0FE;\n",
              "      border: none;\n",
              "      border-radius: 50%;\n",
              "      cursor: pointer;\n",
              "      display: none;\n",
              "      fill: #1967D2;\n",
              "      height: 32px;\n",
              "      padding: 0 0 0 0;\n",
              "      width: 32px;\n",
              "    }\n",
              "\n",
              "    .colab-df-convert:hover {\n",
              "      background-color: #E2EBFA;\n",
              "      box-shadow: 0px 1px 2px rgba(60, 64, 67, 0.3), 0px 1px 3px 1px rgba(60, 64, 67, 0.15);\n",
              "      fill: #174EA6;\n",
              "    }\n",
              "\n",
              "    [theme=dark] .colab-df-convert {\n",
              "      background-color: #3B4455;\n",
              "      fill: #D2E3FC;\n",
              "    }\n",
              "\n",
              "    [theme=dark] .colab-df-convert:hover {\n",
              "      background-color: #434B5C;\n",
              "      box-shadow: 0px 1px 3px 1px rgba(0, 0, 0, 0.15);\n",
              "      filter: drop-shadow(0px 1px 2px rgba(0, 0, 0, 0.3));\n",
              "      fill: #FFFFFF;\n",
              "    }\n",
              "  </style>\n",
              "\n",
              "      <script>\n",
              "        const buttonEl =\n",
              "          document.querySelector('#df-0a12b491-3cec-40b9-82cf-06ea23ca653a button.colab-df-convert');\n",
              "        buttonEl.style.display =\n",
              "          google.colab.kernel.accessAllowed ? 'block' : 'none';\n",
              "\n",
              "        async function convertToInteractive(key) {\n",
              "          const element = document.querySelector('#df-0a12b491-3cec-40b9-82cf-06ea23ca653a');\n",
              "          const dataTable =\n",
              "            await google.colab.kernel.invokeFunction('convertToInteractive',\n",
              "                                                     [key], {});\n",
              "          if (!dataTable) return;\n",
              "\n",
              "          const docLinkHtml = 'Like what you see? Visit the ' +\n",
              "            '<a target=\"_blank\" href=https://colab.research.google.com/notebooks/data_table.ipynb>data table notebook</a>'\n",
              "            + ' to learn more about interactive tables.';\n",
              "          element.innerHTML = '';\n",
              "          dataTable['output_type'] = 'display_data';\n",
              "          await google.colab.output.renderOutput(dataTable, element);\n",
              "          const docLink = document.createElement('div');\n",
              "          docLink.innerHTML = docLinkHtml;\n",
              "          element.appendChild(docLink);\n",
              "        }\n",
              "      </script>\n",
              "    </div>\n",
              "  </div>\n",
              "  "
            ]
          },
          "metadata": {},
          "execution_count": 2
        }
      ]
    },
    {
      "cell_type": "code",
      "metadata": {
        "id": "DKHaIRfmHQOu"
      },
      "source": [
        "data.drop(['RowNumber', 'CustomerId' , 'Surname'] , axis = 1 , inplace = True)"
      ],
      "execution_count": 3,
      "outputs": []
    },
    {
      "cell_type": "code",
      "metadata": {
        "id": "Sc-fGf7cHjps",
        "colab": {
          "base_uri": "https://localhost:8080/"
        },
        "outputId": "c2751991-73f2-4dd7-a6b9-0095152d2895"
      },
      "source": [
        "# Check if Data has any null values \n",
        "data.isnull().sum()"
      ],
      "execution_count": 4,
      "outputs": [
        {
          "output_type": "execute_result",
          "data": {
            "text/plain": [
              "CreditScore        0\n",
              "Geography          0\n",
              "Gender             0\n",
              "Age                0\n",
              "Tenure             0\n",
              "Balance            0\n",
              "NumOfProducts      0\n",
              "HasCrCard          0\n",
              "IsActiveMember     0\n",
              "EstimatedSalary    0\n",
              "Exited             0\n",
              "dtype: int64"
            ]
          },
          "metadata": {},
          "execution_count": 4
        }
      ]
    },
    {
      "cell_type": "code",
      "metadata": {
        "id": "2muHLmN7Hnz4",
        "colab": {
          "base_uri": "https://localhost:8080/"
        },
        "outputId": "32245466-e124-43ba-9c9b-e8508b6da807"
      },
      "source": [
        "# Check for Object datatypes\n",
        "data.info()"
      ],
      "execution_count": 5,
      "outputs": [
        {
          "output_type": "stream",
          "name": "stdout",
          "text": [
            "<class 'pandas.core.frame.DataFrame'>\n",
            "RangeIndex: 10000 entries, 0 to 9999\n",
            "Data columns (total 11 columns):\n",
            " #   Column           Non-Null Count  Dtype  \n",
            "---  ------           --------------  -----  \n",
            " 0   CreditScore      10000 non-null  int64  \n",
            " 1   Geography        10000 non-null  object \n",
            " 2   Gender           10000 non-null  object \n",
            " 3   Age              10000 non-null  int64  \n",
            " 4   Tenure           10000 non-null  int64  \n",
            " 5   Balance          10000 non-null  float64\n",
            " 6   NumOfProducts    10000 non-null  int64  \n",
            " 7   HasCrCard        10000 non-null  int64  \n",
            " 8   IsActiveMember   10000 non-null  int64  \n",
            " 9   EstimatedSalary  10000 non-null  float64\n",
            " 10  Exited           10000 non-null  int64  \n",
            "dtypes: float64(2), int64(7), object(2)\n",
            "memory usage: 859.5+ KB\n"
          ]
        }
      ]
    },
    {
      "cell_type": "code",
      "metadata": {
        "id": "5s6b24hkHtS3",
        "colab": {
          "base_uri": "https://localhost:8080/"
        },
        "outputId": "3a7c9367-3fb7-452f-9d28-c550fce237f3"
      },
      "source": [
        "# Label encode Object Datatypes \n",
        "\n",
        "data_types_dict = dict(data.dtypes)\n",
        "# Keep track Mappings Column name to LabelEncoders\n",
        "Label_encoder_collection = {}\n",
        "for col_name , data_type in data_types_dict.items():\n",
        "    if data_type == 'object':\n",
        "        Le = LabelEncoder()\n",
        "        data[col_name] = Le.fit_transform(data[col_name])\n",
        "        Label_encoder_collection[col_name] = Le \n",
        "\n",
        "data.info()"
      ],
      "execution_count": 6,
      "outputs": [
        {
          "output_type": "stream",
          "name": "stdout",
          "text": [
            "<class 'pandas.core.frame.DataFrame'>\n",
            "RangeIndex: 10000 entries, 0 to 9999\n",
            "Data columns (total 11 columns):\n",
            " #   Column           Non-Null Count  Dtype  \n",
            "---  ------           --------------  -----  \n",
            " 0   CreditScore      10000 non-null  int64  \n",
            " 1   Geography        10000 non-null  int64  \n",
            " 2   Gender           10000 non-null  int64  \n",
            " 3   Age              10000 non-null  int64  \n",
            " 4   Tenure           10000 non-null  int64  \n",
            " 5   Balance          10000 non-null  float64\n",
            " 6   NumOfProducts    10000 non-null  int64  \n",
            " 7   HasCrCard        10000 non-null  int64  \n",
            " 8   IsActiveMember   10000 non-null  int64  \n",
            " 9   EstimatedSalary  10000 non-null  float64\n",
            " 10  Exited           10000 non-null  int64  \n",
            "dtypes: float64(2), int64(9)\n",
            "memory usage: 859.5 KB\n"
          ]
        }
      ]
    },
    {
      "cell_type": "code",
      "metadata": {
        "id": "3GXKQ24YI_Fz"
      },
      "source": [
        "X = data.iloc[: , :-1].values.astype(np.float32)\n",
        "Y = data.iloc[: , -1].values.astype(int)"
      ],
      "execution_count": 7,
      "outputs": []
    },
    {
      "cell_type": "code",
      "metadata": {
        "id": "tZiD9ZOaI_dh"
      },
      "source": [
        "Xtrain , Xtest , Ytrain , Ytest = train_test_split(X , Y , test_size = 0.2 , random_state = 4)"
      ],
      "execution_count": 8,
      "outputs": []
    },
    {
      "cell_type": "code",
      "source": [
        "import enum\n",
        "from sklearn.utils import class_weight\n",
        "#Add Class weights when data is Imbalanced\n",
        "from sklearn.utils.class_weight import compute_class_weight\n",
        "class_weights = compute_class_weight(class_weight = 'balanced' , classes = np.unique(Ytrain),y = Ytrain)\n",
        "\n",
        "model_class_weights={}\n",
        "for e ,weight in enumerate(class_weights):\n",
        "  model_class_weights[e] = weight"
      ],
      "metadata": {
        "id": "L417Z5I2u9NN"
      },
      "execution_count": 19,
      "outputs": []
    },
    {
      "cell_type": "code",
      "source": [
        "model_class_weights"
      ],
      "metadata": {
        "colab": {
          "base_uri": "https://localhost:8080/"
        },
        "id": "3Ok97Q7Vu9zr",
        "outputId": "a73f192c-32d8-44ae-93d8-d99176e92632"
      },
      "execution_count": 20,
      "outputs": [
        {
          "output_type": "execute_result",
          "data": {
            "text/plain": [
              "{0: 0.6290297216543481, 1: 2.437538086532602}"
            ]
          },
          "metadata": {},
          "execution_count": 20
        }
      ]
    },
    {
      "cell_type": "code",
      "source": [
        ""
      ],
      "metadata": {
        "id": "or27pJJNu-BV"
      },
      "execution_count": null,
      "outputs": []
    },
    {
      "cell_type": "code",
      "metadata": {
        "id": "SjvyhBk6IvhN",
        "colab": {
          "base_uri": "https://localhost:8080/"
        },
        "outputId": "2581fc75-162d-46b5-83f0-43c6a52127b1"
      },
      "source": [
        "# Imported Network designed in previous lesson\n",
        "\n",
        "# Start your model with Sequential Object  \n",
        "model = tf.keras.models.Sequential()\n",
        "# Next add in your Input object and Specify the Dimension you want to pass in \n",
        "model.add(tf.keras.Input(shape=(10,)))\n",
        "model.add(tf.keras.layers.BatchNormalization())\n",
        "model.add(tf.keras.layers.Dense(128,activation = 'relu'))\n",
        "model.add(tf.keras.layers.Dropout(0.2))\n",
        "model.add(tf.keras.layers.BatchNormalization())\n",
        "model.add(tf.keras.layers.Dense(64,activation = 'relu'))\n",
        "model.add(tf.keras.layers.BatchNormalization())\n",
        "model.add(tf.keras.layers.Dense(32,activation='relu'))\n",
        "model.add(tf.keras.layers.Dense(1,activation='sigmoid'))\n",
        "# # Add in your Neurons of 1st layer\n",
        "# model.add(tf.keras.layers.Dense(32))\n",
        "# # 2nd layer \n",
        "# model.add(tf.keras.layers.Dense(32))\n",
        "# # Final Sigmoid layer to predict (0/1)\n",
        "# model.add(tf.keras.layers.Dense(1 , activation='sigmoid'))\n",
        "\n",
        "# print summary to undertstand your neural network flow\n",
        "model.summary()"
      ],
      "execution_count": 21,
      "outputs": [
        {
          "output_type": "stream",
          "name": "stdout",
          "text": [
            "Model: \"sequential_1\"\n",
            "_________________________________________________________________\n",
            " Layer (type)                Output Shape              Param #   \n",
            "=================================================================\n",
            " batch_normalization (BatchN  (None, 10)               40        \n",
            " ormalization)                                                   \n",
            "                                                                 \n",
            " dense_3 (Dense)             (None, 128)               1408      \n",
            "                                                                 \n",
            " dropout (Dropout)           (None, 128)               0         \n",
            "                                                                 \n",
            " batch_normalization_1 (Batc  (None, 128)              512       \n",
            " hNormalization)                                                 \n",
            "                                                                 \n",
            " dense_4 (Dense)             (None, 64)                8256      \n",
            "                                                                 \n",
            " batch_normalization_2 (Batc  (None, 64)               256       \n",
            " hNormalization)                                                 \n",
            "                                                                 \n",
            " dense_5 (Dense)             (None, 32)                2080      \n",
            "                                                                 \n",
            " dense_6 (Dense)             (None, 1)                 33        \n",
            "                                                                 \n",
            "=================================================================\n",
            "Total params: 12,585\n",
            "Trainable params: 12,181\n",
            "Non-trainable params: 404\n",
            "_________________________________________________________________\n"
          ]
        }
      ]
    },
    {
      "cell_type": "code",
      "metadata": {
        "id": "_9ratj_IJ-6K"
      },
      "source": [
        "# Create your optimizer and compile your model\n",
        "Optimizer = tf.keras.optimizers.Adam(learning_rate=0.001)\n",
        "model.compile(Optimizer, loss='binary_crossentropy', metrics=[\"accuracy\"])"
      ],
      "execution_count": 22,
      "outputs": []
    },
    {
      "cell_type": "code",
      "metadata": {
        "id": "sNKUiw5cKK78",
        "colab": {
          "base_uri": "https://localhost:8080/"
        },
        "outputId": "59b95caf-df29-4b1e-b255-6ba844752972"
      },
      "source": [
        "history = model.fit(Xtrain , Ytrain , validation_data=(Xtest , Ytest) , epochs=20)"
      ],
      "execution_count": 23,
      "outputs": [
        {
          "output_type": "stream",
          "name": "stdout",
          "text": [
            "Epoch 1/20\n",
            "250/250 [==============================] - 2s 6ms/step - loss: 0.4496 - accuracy: 0.7946 - val_loss: 0.3860 - val_accuracy: 0.8405\n",
            "Epoch 2/20\n",
            "250/250 [==============================] - 1s 3ms/step - loss: 0.3922 - accuracy: 0.8355 - val_loss: 0.3464 - val_accuracy: 0.8570\n",
            "Epoch 3/20\n",
            "250/250 [==============================] - 1s 3ms/step - loss: 0.3744 - accuracy: 0.8434 - val_loss: 0.3368 - val_accuracy: 0.8635\n",
            "Epoch 4/20\n",
            "250/250 [==============================] - 1s 4ms/step - loss: 0.3707 - accuracy: 0.8393 - val_loss: 0.3361 - val_accuracy: 0.8690\n",
            "Epoch 5/20\n",
            "250/250 [==============================] - 1s 3ms/step - loss: 0.3651 - accuracy: 0.8481 - val_loss: 0.3316 - val_accuracy: 0.8635\n",
            "Epoch 6/20\n",
            "250/250 [==============================] - 1s 4ms/step - loss: 0.3633 - accuracy: 0.8493 - val_loss: 0.3352 - val_accuracy: 0.8600\n",
            "Epoch 7/20\n",
            "250/250 [==============================] - 1s 3ms/step - loss: 0.3560 - accuracy: 0.8505 - val_loss: 0.3296 - val_accuracy: 0.8650\n",
            "Epoch 8/20\n",
            "250/250 [==============================] - 1s 3ms/step - loss: 0.3541 - accuracy: 0.8482 - val_loss: 0.3335 - val_accuracy: 0.8630\n",
            "Epoch 9/20\n",
            "250/250 [==============================] - 1s 3ms/step - loss: 0.3565 - accuracy: 0.8472 - val_loss: 0.3254 - val_accuracy: 0.8650\n",
            "Epoch 10/20\n",
            "250/250 [==============================] - 1s 3ms/step - loss: 0.3544 - accuracy: 0.8524 - val_loss: 0.3264 - val_accuracy: 0.8655\n",
            "Epoch 11/20\n",
            "250/250 [==============================] - 1s 3ms/step - loss: 0.3502 - accuracy: 0.8549 - val_loss: 0.3292 - val_accuracy: 0.8695\n",
            "Epoch 12/20\n",
            "250/250 [==============================] - 1s 4ms/step - loss: 0.3485 - accuracy: 0.8537 - val_loss: 0.3273 - val_accuracy: 0.8660\n",
            "Epoch 13/20\n",
            "250/250 [==============================] - 1s 6ms/step - loss: 0.3490 - accuracy: 0.8564 - val_loss: 0.3298 - val_accuracy: 0.8640\n",
            "Epoch 14/20\n",
            "250/250 [==============================] - 2s 7ms/step - loss: 0.3449 - accuracy: 0.8568 - val_loss: 0.3316 - val_accuracy: 0.8670\n",
            "Epoch 15/20\n",
            "250/250 [==============================] - 2s 7ms/step - loss: 0.3433 - accuracy: 0.8587 - val_loss: 0.3255 - val_accuracy: 0.8620\n",
            "Epoch 16/20\n",
            "250/250 [==============================] - 1s 6ms/step - loss: 0.3493 - accuracy: 0.8559 - val_loss: 0.3293 - val_accuracy: 0.8635\n",
            "Epoch 17/20\n",
            "250/250 [==============================] - 2s 8ms/step - loss: 0.3448 - accuracy: 0.8554 - val_loss: 0.3272 - val_accuracy: 0.8645\n",
            "Epoch 18/20\n",
            "250/250 [==============================] - 2s 7ms/step - loss: 0.3429 - accuracy: 0.8550 - val_loss: 0.3341 - val_accuracy: 0.8690\n",
            "Epoch 19/20\n",
            "250/250 [==============================] - 2s 6ms/step - loss: 0.3391 - accuracy: 0.8599 - val_loss: 0.3288 - val_accuracy: 0.8685\n",
            "Epoch 20/20\n",
            "250/250 [==============================] - 1s 6ms/step - loss: 0.3434 - accuracy: 0.8529 - val_loss: 0.3253 - val_accuracy: 0.8705\n"
          ]
        }
      ]
    },
    {
      "cell_type": "code",
      "metadata": {
        "id": "XKhLBVoQRlbt",
        "colab": {
          "base_uri": "https://localhost:8080/",
          "height": 573
        },
        "outputId": "5c0c19f9-d386-49ef-b8eb-83788bacce55"
      },
      "source": [
        "#  \"Accuracy Plot\"\n",
        "plt.plot(history.history['accuracy'])\n",
        "plt.plot(history.history['val_accuracy'])\n",
        "plt.title('model accuracy')\n",
        "plt.ylabel('accuracy')\n",
        "plt.xlabel('epoch')\n",
        "plt.legend(['train', 'validation'], loc='upper left')\n",
        "plt.show()\n",
        "\n",
        "# \"Loss Plot\"\n",
        "plt.plot(history.history['loss'])\n",
        "plt.plot(history.history['val_loss'])\n",
        "plt.title('model loss')\n",
        "plt.ylabel('loss')\n",
        "plt.xlabel('epoch')\n",
        "plt.legend(['train', 'validation'], loc='upper left')\n",
        "plt.show()\n",
        "\n",
        "# We see a lot of fluctuations in Accuracy Graph which concludes model learning is unstable "
      ],
      "execution_count": 24,
      "outputs": [
        {
          "output_type": "display_data",
          "data": {
            "text/plain": [
              "<Figure size 432x288 with 1 Axes>"
            ],
            "image/png": "[encoded data removed]"
          },
          "metadata": {
            "needs_background": "light"
          }
        },
        {
          "output_type": "display_data",
          "data": {
            "text/plain": [
              "<Figure size 432x288 with 1 Axes>"
            ],
            "image/png": "[encoded data removed]"
          },
          "metadata": {
            "needs_background": "light"
          }
        }
      ]
    },
    {
      "cell_type": "code",
      "metadata": {
        "id": "mQpLObtHK4bF"
      },
      "source": [
        "# collect predictions \n",
        "predictions = np.round(model.predict(Xtest))"
      ],
      "execution_count": 25,
      "outputs": []
    },
    {
      "cell_type": "code",
      "metadata": {
        "id": "qsx8F5PJO_kf",
        "colab": {
          "base_uri": "https://localhost:8080/"
        },
        "outputId": "92c311b9-7f00-4503-bddd-edf47e022d3b"
      },
      "source": [
        "# Check Accuracy\n",
        "\n",
        "from sklearn.metrics import accuracy_score , confusion_matrix\n",
        "\n",
        "accuracy_score(Ytest , predictions) # Accuracy Seems good"
      ],
      "execution_count": 26,
      "outputs": [
        {
          "output_type": "execute_result",
          "data": {
            "text/plain": [
              "0.8705"
            ]
          },
          "metadata": {},
          "execution_count": 26
        }
      ]
    },
    {
      "cell_type": "code",
      "metadata": {
        "id": "3SdCEgbiPFys",
        "colab": {
          "base_uri": "https://localhost:8080/"
        },
        "outputId": "93e6e24a-55db-467b-ff88-ae4c8d658fec"
      },
      "source": [
        "confusion_matrix(Ytest , predictions)"
      ],
      "execution_count": 27,
      "outputs": [
        {
          "output_type": "execute_result",
          "data": {
            "text/plain": [
              "array([[1557,   47],\n",
              "       [ 212,  184]])"
            ]
          },
          "metadata": {},
          "execution_count": 27
        }
      ]
    },
    {
      "cell_type": "code",
      "source": [
        "from sklearn.metrics import classification_report\n",
        "\n",
        "print(classification_report(Ytest,predictions))"
      ],
      "metadata": {
        "colab": {
          "base_uri": "https://localhost:8080/"
        },
        "id": "gJmjvAR6B39r",
        "outputId": "212a53ef-96ac-4641-fbbd-8028708ab79e"
      },
      "execution_count": 30,
      "outputs": [
        {
          "output_type": "stream",
          "name": "stdout",
          "text": [
            "              precision    recall  f1-score   support\n",
            "\n",
            "           0       0.88      0.97      0.92      1604\n",
            "           1       0.80      0.46      0.59       396\n",
            "\n",
            "    accuracy                           0.87      2000\n",
            "   macro avg       0.84      0.72      0.76      2000\n",
            "weighted avg       0.86      0.87      0.86      2000\n",
            "\n"
          ]
        }
      ]
    },
    {
      "cell_type": "code",
      "metadata": {
        "id": "xEZY3-VBPYw_"
      },
      "source": [
        "# So we are predicting everything to be 0 , as Dataset is Imbalanced we still see a better Accuracy \n",
        "# In next lesson we will try to improve our model's performance "
      ],
      "execution_count": 28,
      "outputs": []
    }
  ]
}